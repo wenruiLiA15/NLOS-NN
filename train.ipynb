{
 "cells": [
  {
   "cell_type": "code",
   "execution_count": 79,
   "metadata": {},
   "outputs": [],
   "source": [
    "import torch\n",
    "import torchvision\n",
    "from torch.utils.data import Dataset\n",
    "from torchvision import datasets, transforms\n",
    "import os\n",
    "from PIL import Image\n",
    "import numpy as np\n",
    "from torch.utils.data import DataLoader"
   ]
  },
  {
   "cell_type": "markdown",
   "metadata": {},
   "source": [
    "# Load data"
   ]
  },
  {
   "cell_type": "code",
   "execution_count": 80,
   "metadata": {},
   "outputs": [],
   "source": [
    "transform = transforms.Compose([\n",
    "    transforms.ToTensor()\n",
    "])"
   ]
  },
  {
   "cell_type": "markdown",
   "metadata": {},
   "source": [
    "### Load data-figure out paths"
   ]
  },
  {
   "cell_type": "code",
   "execution_count": 81,
   "metadata": {},
   "outputs": [],
   "source": [
    "rendered_path = \"/Users/wenruili/Documents/Computational periscopy/testresized\"\n",
    "gt_path = \"/Users/wenruili/Documents/Computational periscopy/gt\"\n",
    "rendered_file = [os.path.join(rendered_path,i) for i in os.listdir(rendered_path)]\n",
    "gt_file = [os.path.join(gt_path,i) for i in os.listdir(gt_path)]\n",
    "np.save(\"rendered_file.npy\",rendered_file)\n",
    "np.save( \"gt_file.npy\",gt_file)"
   ]
  },
  {
   "cell_type": "markdown",
   "metadata": {},
   "source": [
    "### Load data - config dataloader and load"
   ]
  },
  {
   "cell_type": "code",
   "execution_count": 84,
   "metadata": {},
   "outputs": [],
   "source": [
    "def rendered_loader(path):\n",
    "    img_pil = Image.open(path)\n",
    "    img_pil = img_pil.resize((224,224))\n",
    "    img_tensor = transform(img_pil)\n",
    "    return img_tensor\n",
    "def gt_loader(path):\n",
    "    img_pil = Image.open(path)\n",
    "    img_pil = img_pil.resize((36,29))\n",
    "    img_tensor = transform(img_pil)\n",
    "    return img_tensor\n",
    "class trainset(Dataset):\n",
    "    def __init__(self, render_loader = rendered_loader, gt_loader = gt_loader):\n",
    "        self.rendered = rendered_file\n",
    "        self.gt = gt_file\n",
    "        self.render_loader = rendered_loader\n",
    "        self.gt_loader = gt_loader\n",
    "    def __getitem__(self,index):\n",
    "        rendered = self.render_loader(self.rendered[index])\n",
    "        gt = self.gt_loader(self.gt[index])\n",
    "        return rendered,gt\n",
    "    def __len__(self):\n",
    "        return len(self.rendered)\n",
    "train_data = trainset()\n",
    "trainloader = DataLoader(train_data,batch_size = 1,shuffle = True)"
   ]
  },
  {
   "cell_type": "code",
   "execution_count": 85,
   "metadata": {},
   "outputs": [
    {
     "name": "stdout",
     "output_type": "stream",
     "text": [
      "epoch##################### 0\n",
      "0 torch.Size([1, 1, 224, 224]) torch.Size([1, 1, 29, 36])\n",
      "1 torch.Size([1, 1, 224, 224]) torch.Size([1, 1, 29, 36])\n",
      "2 torch.Size([1, 1, 224, 224]) torch.Size([1, 1, 29, 36])\n",
      "3 torch.Size([1, 1, 224, 224]) torch.Size([1, 1, 29, 36])\n",
      "4 torch.Size([1, 1, 224, 224]) torch.Size([1, 1, 29, 36])\n",
      "5 torch.Size([1, 1, 224, 224]) torch.Size([1, 1, 29, 36])\n",
      "6 torch.Size([1, 1, 224, 224]) torch.Size([1, 1, 29, 36])\n",
      "7 torch.Size([1, 1, 224, 224]) torch.Size([1, 1, 29, 36])\n",
      "epoch##################### 1\n",
      "0 torch.Size([1, 1, 224, 224]) torch.Size([1, 1, 29, 36])\n",
      "1 torch.Size([1, 1, 224, 224]) torch.Size([1, 1, 29, 36])\n",
      "2 torch.Size([1, 1, 224, 224]) torch.Size([1, 1, 29, 36])\n",
      "3 torch.Size([1, 1, 224, 224]) torch.Size([1, 1, 29, 36])\n",
      "4 torch.Size([1, 1, 224, 224]) torch.Size([1, 1, 29, 36])\n",
      "5 torch.Size([1, 1, 224, 224]) torch.Size([1, 1, 29, 36])\n",
      "6 torch.Size([1, 1, 224, 224]) torch.Size([1, 1, 29, 36])\n",
      "7 torch.Size([1, 1, 224, 224]) torch.Size([1, 1, 29, 36])\n",
      "epoch##################### 2\n",
      "0 torch.Size([1, 1, 224, 224]) torch.Size([1, 1, 29, 36])\n",
      "1 torch.Size([1, 1, 224, 224]) torch.Size([1, 1, 29, 36])\n",
      "2 torch.Size([1, 1, 224, 224]) torch.Size([1, 1, 29, 36])\n",
      "3 torch.Size([1, 1, 224, 224]) torch.Size([1, 1, 29, 36])\n",
      "4 torch.Size([1, 1, 224, 224]) torch.Size([1, 1, 29, 36])\n",
      "5 torch.Size([1, 1, 224, 224]) torch.Size([1, 1, 29, 36])\n",
      "6 torch.Size([1, 1, 224, 224]) torch.Size([1, 1, 29, 36])\n",
      "7 torch.Size([1, 1, 224, 224]) torch.Size([1, 1, 29, 36])\n"
     ]
    }
   ],
   "source": [
    "def show_batch():\n",
    "    for epoch in range(3):\n",
    "        print(\"epoch#####################\",epoch)\n",
    "        for step, (batch_x, batch_y) in enumerate(trainloader):\n",
    "            print(step,batch_x.shape,batch_y.shape)\n",
    "            # training\n",
    "            #print(\"steop:{}, batch_x:{}, batch_y:{}\".format(step, batch_x, batch_y))\n",
    "show_batch()"
   ]
  },
  {
   "cell_type": "markdown",
   "metadata": {},
   "source": [
    "## Getting ready to train\n",
    "rendered_data.shape should be [batch,1,126,126]\n",
    "\n",
    "gt.shape should be [1,36,29]\n",
    "\n",
    "Also need to load matrix A , A.shape = [15876,1044]\n",
    "\n",
    "Loss function: \n",
    "$$ \\min_{A, CNN} \\sum_i \\| A CNN(x_i) - x_i \\|^2 + \\beta\\|CNN(x_i) - y_i\\|^2+ \\lambda \\| A - \\hat{A} \\|^2$$"
   ]
  },
  {
   "cell_type": "code",
   "execution_count": 88,
   "metadata": {},
   "outputs": [
    {
     "data": {
      "text/plain": [
       "torch.Size([15876, 1044])"
      ]
     },
     "execution_count": 88,
     "metadata": {},
     "output_type": "execute_result"
    }
   ],
   "source": [
    "from module import AlexNet\n",
    "from scipy.io import loadmat\n",
    "from torch.autograd import Variable\n",
    "m = loadmat(\"sima.mat\")\n",
    "simA = m[\"simA\"]\n",
    "simA = torch.Tensor(simA)\n",
    "simA.shape\n"
   ]
  },
  {
   "cell_type": "code",
   "execution_count": 89,
   "metadata": {},
   "outputs": [
    {
     "name": "stdout",
     "output_type": "stream",
     "text": [
      "AlexNet(\n",
      "  (feature_extraction): Sequential(\n",
      "    (0): Conv2d(3, 96, kernel_size=(11, 11), stride=(4, 4), padding=(2, 2), bias=False)\n",
      "    (1): ReLU(inplace=True)\n",
      "    (2): MaxPool2d(kernel_size=3, stride=2, padding=0, dilation=1, ceil_mode=False)\n",
      "    (3): Conv2d(96, 192, kernel_size=(5, 5), stride=(1, 1), padding=(2, 2), bias=False)\n",
      "    (4): ReLU(inplace=True)\n",
      "    (5): MaxPool2d(kernel_size=3, stride=2, padding=0, dilation=1, ceil_mode=False)\n",
      "    (6): Conv2d(192, 384, kernel_size=(3, 3), stride=(1, 1), padding=(1, 1), bias=False)\n",
      "    (7): ReLU(inplace=True)\n",
      "    (8): Conv2d(384, 256, kernel_size=(3, 3), stride=(1, 1), padding=(1, 1), bias=False)\n",
      "    (9): ReLU(inplace=True)\n",
      "    (10): Conv2d(256, 256, kernel_size=(3, 3), stride=(1, 1), padding=(1, 1), bias=False)\n",
      "    (11): ReLU(inplace=True)\n",
      "    (12): MaxPool2d(kernel_size=3, stride=2, padding=0, dilation=1, ceil_mode=False)\n",
      "  )\n",
      "  (classifier): Sequential(\n",
      "    (0): Dropout(p=0.5, inplace=False)\n",
      "    (1): Linear(in_features=9216, out_features=4096, bias=True)\n",
      "    (2): Dropout(p=0.5, inplace=False)\n",
      "    (3): Linear(in_features=4096, out_features=4096, bias=True)\n",
      "    (4): Linear(in_features=4096, out_features=1000, bias=True)\n",
      "  )\n",
      ")\n"
     ]
    }
   ],
   "source": [
    "A = Variable(torch.rand([15876, 1044])*40)\n",
    "model = AlexNet()\n",
    "print(model)"
   ]
  },
  {
   "cell_type": "code",
   "execution_count": 91,
   "metadata": {},
   "outputs": [
    {
     "name": "stdout",
     "output_type": "stream",
     "text": [
      "tensor(4001.0310)\n",
      "tensor(8002.0620)\n",
      "tensor(12003.0928)\n",
      "tensor(16004.1240)\n",
      "tensor(20005.1543)\n",
      "tensor(24006.1855)\n",
      "tensor(28007.2168)\n",
      "tensor(32008.2480)\n",
      "tensor(36009.2773)\n"
     ]
    }
   ],
   "source": [
    "CNN_output = torch.randn(10,1044)\n",
    "simA = torch.randn(15876,1044)\n",
    "y = torch.randn(10,1,126,126)\n",
    "batch_size = 9\n",
    "loss = 0\n",
    "range(batch_size)\n",
    "for i in range(batch_size):\n",
    "    tmp = torch.matmul(simA,CNN_output[batch_size,:]) - y[batch_size,:].view(15876)\n",
    "    loss += torch.norm(tmp,p = 2, dim = 0)\n",
    "    print(loss)\n",
    "torch.matmul(simA,CNN_output[batch_size,:]).shape\n",
    "\n",
    "def loss_function(preds,targets,A,simA,lamda,batchsize):\n",
    "    for i in range(batch_size):\n",
    "        tmp = torch.matmul(simA,preds[batch_size,:]) - y[batch_size,:].view(15876)\n",
    "        loss += torch.norm(tmp,p = 2, dim = 0)\n",
    "    print(loss)\n",
    "    loss = torch.sum(A)\n",
    "    "
   ]
  },
  {
   "cell_type": "code",
   "execution_count": null,
   "metadata": {},
   "outputs": [],
   "source": [
    "# for epoch in range(1000):\n",
    "#         t = time.time()\n",
    "#         model.train()\n",
    "#         optimizer.zero_grad()\n",
    "#         recovered, mu, logvar = model(features, adj_norm)\n",
    "#         loss = loss_function(preds=recovered, labels=adj_label,\n",
    "#                              mu=mu, logvar=logvar, n_nodes=n_nodes,\n",
    "#                              norm=norm, pos_weight=pos_weight)\n",
    "#         loss.backward()\n",
    "#         cur_loss = loss.item()\n",
    "#         optimizer.step()\n",
    "\n",
    "#         hidden_emb = mu.data.numpy()\n",
    "#         roc_curr, ap_curr = get_roc_score(hidden_emb, adj_orig, val_edges, val_edges_false)\n",
    "\n",
    "#         print(\"Epoch:\", '%04d' % (epoch + 1), \"train_loss=\", \"{:.5f}\".format(cur_loss),\n",
    "#               \"val_ap=\", \"{:.5f}\".format(ap_curr),\n",
    "#               \"time=\", \"{:.5f}\".format(time.time() - t)\n",
    "#               )\n"
   ]
  }
 ],
 "metadata": {
  "kernelspec": {
   "display_name": "Python 3",
   "language": "python",
   "name": "python3"
  },
  "language_info": {
   "codemirror_mode": {
    "name": "ipython",
    "version": 3
   },
   "file_extension": ".py",
   "mimetype": "text/x-python",
   "name": "python",
   "nbconvert_exporter": "python",
   "pygments_lexer": "ipython3",
   "version": "3.7.4"
  }
 },
 "nbformat": 4,
 "nbformat_minor": 4
}
