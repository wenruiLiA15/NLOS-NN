{
 "cells": [
  {
   "cell_type": "code",
   "execution_count": 9,
   "metadata": {},
   "outputs": [],
   "source": [
    "import numpy as np\n",
    "import matplotlib.pyplot as plt\n",
    "import os\n",
    "import cv2\n",
    "\n"
   ]
  },
  {
   "cell_type": "code",
   "execution_count": 18,
   "metadata": {},
   "outputs": [],
   "source": [
    "DATADIR = '/Users/wenruili/Documents/Computational periscopy/testset'\n",
    "DATARESIZED = '/Users/wenruili/Documents/Computational periscopy/testresized'\n",
    "GTDIR = '/Users/wenruili/Documents/gt'\n",
    "IMSIZE = 126\n",
    "for img in os.listdir(DATADIR):\n",
    "    img_array = cv2.imread(os.path.join(DATADIR,img),cv2.IMREAD_GRAYSCALE)\n",
    "    \n",
    "    img_array = cv2.resize(img_array,(IMSIZE,IMSIZE))\n",
    "    #plt.imshow(img_array,cmap='gray')\n",
    "    cv2.imwrite(os.path.join(DATARESIZED,img),img_array)\n",
    "   \n"
   ]
  },
  {
   "cell_type": "code",
   "execution_count": null,
   "metadata": {},
   "outputs": [],
   "source": [
    "\n"
   ]
  }
 ],
 "metadata": {
  "kernelspec": {
   "display_name": "Python 3",
   "language": "python",
   "name": "python3"
  },
  "language_info": {
   "codemirror_mode": {
    "name": "ipython",
    "version": 3
   },
   "file_extension": ".py",
   "mimetype": "text/x-python",
   "name": "python",
   "nbconvert_exporter": "python",
   "pygments_lexer": "ipython3",
   "version": "3.7.4"
  }
 },
 "nbformat": 4,
 "nbformat_minor": 2
}
